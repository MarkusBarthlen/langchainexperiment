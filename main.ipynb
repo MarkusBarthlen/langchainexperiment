{
 "cells": [
  {
   "cell_type": "code",
   "execution_count": null,
   "id": "ec56c9b3",
   "metadata": {},
   "outputs": [],
   "source": [
    "import transformers\n",
    "import torch"
   ]
  },
  {
   "cell_type": "code",
   "execution_count": null,
   "id": "df1f88b8",
   "metadata": {},
   "outputs": [],
   "source": [
    "with open('token') as file:\n",
    "    token = file.read().rstrip()\n",
    "    model_id = \"meta-llama/Meta-Llama-3-8B\"\n",
    "    pipeline = transformers.pipeline(\n",
    "        \"text-generation\", model=model_id, model_kwargs={\"torch_dtype\": torch.bfloat16}, device_map=\"auto\", token=token\n",
    "    )\n",
    "    pipeline(\"Hey how are you doing today?\")"
   ]
  }
 ],
 "metadata": {
  "jupytext": {
   "cell_metadata_filter": "-all",
   "main_language": "python",
   "notebook_metadata_filter": "-all"
  }
 },
 "nbformat": 4,
 "nbformat_minor": 5
}
